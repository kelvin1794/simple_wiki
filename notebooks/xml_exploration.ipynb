{
 "metadata": {
  "language_info": {
   "codemirror_mode": {
    "name": "ipython",
    "version": 3
   },
   "file_extension": ".py",
   "mimetype": "text/x-python",
   "name": "python",
   "nbconvert_exporter": "python",
   "pygments_lexer": "ipython3",
   "version": "3.8.6-final"
  },
  "orig_nbformat": 2,
  "kernelspec": {
   "name": "Python 3.8.6 64-bit",
   "display_name": "Python 3.8.6 64-bit",
   "metadata": {
    "interpreter": {
     "hash": "4cd7ab41f5fca4b9b44701077e38c5ffd31fe66a6cab21e0214b68d958d0e462"
    }
   }
  }
 },
 "nbformat": 4,
 "nbformat_minor": 2,
 "cells": [
  {
   "source": [
    "## Exploration of XML files\n",
    "\n",
    "Let's take the first portion of the codes in the `sql_exploration.ipynb` file."
   ],
   "cell_type": "markdown",
   "metadata": {}
  },
  {
   "cell_type": "code",
   "execution_count": 2,
   "metadata": {},
   "outputs": [],
   "source": [
    "import requests\n",
    "from bs4 import BeautifulSoup\n",
    "\n",
    "base_url = \"https://dumps.wikimedia.org/simplewiki/\"\n",
    "# Get the text text response of the base page\n",
    "index = requests.get(base_url).text\n",
    "soup_index = BeautifulSoup(index, \"html.parser\")\n",
    "\n",
    "# In the base index, there should be multiple <a> tag leading\n",
    "# to different version of the database\n",
    "dumps = [a[\"href\"] for a in soup_index.find_all(\"a\") if a.has_attr(\"href\")]\n",
    "\n",
    "if \"latest\" not in dumps[-1]:\n",
    "    print(\"Couldn't find the latest dump\")\n",
    "    exit\n",
    "\n",
    "# Later on production, we will use this.\n",
    "dump = dumps[-2]\n",
    "\n",
    "# For now, let's use this.\n",
    "dump = \"20201001/\"\n",
    "\n",
    "# Create dump url with the base and the latest timestamp\n",
    "dump_url = base_url + dump\n",
    "\n",
    "# Retrieve the dump page\n",
    "dump_html = requests.get(dump_url).text\n",
    "soup_dump = BeautifulSoup(dump_html, \"html.parser\")\n",
    "\n",
    "# Search for SQL files\n",
    "files = []\n",
    "for file in soup_dump.find_all(\"li\", {\"class\": \"file\"}):\n",
    "    text = file.text\n",
    "    if 'pages-articles' in text:\n",
    "        files.append((text.split()[0], text.split()[1:]))\n",
    "\n",
    "files_to_download = [file[0] for file in files]"
   ]
  },
  {
   "cell_type": "code",
   "execution_count": 3,
   "metadata": {},
   "outputs": [
    {
     "output_type": "execute_result",
     "data": {
      "text/plain": [
       "['simplewiki-20201001-pages-articles-multistream.xml.bz2',\n",
       " 'simplewiki-20201001-pages-articles-multistream-index.txt.bz2',\n",
       " 'simplewiki-20201001-pages-articles.xml.bz2']"
      ]
     },
     "metadata": {},
     "execution_count": 3
    }
   ],
   "source": [
    "files_to_download"
   ]
  },
  {
   "source": [
    "Let's only take the `multistream xml` file. That will be what we need."
   ],
   "cell_type": "markdown",
   "metadata": {}
  },
  {
   "cell_type": "code",
   "execution_count": 4,
   "metadata": {},
   "outputs": [],
   "source": [
    "# Search for SQL files\n",
    "files = []\n",
    "for file in soup_dump.find_all(\"li\", {\"class\": \"file\"}):\n",
    "    text = file.text\n",
    "    if 'pages-articles' in text and 'multistream.xml' in text:\n",
    "        files.append((text.split()[0], text.split()[1:]))\n",
    "\n",
    "files_to_download = [file[0] for file in files]"
   ]
  },
  {
   "cell_type": "code",
   "execution_count": 5,
   "metadata": {},
   "outputs": [
    {
     "output_type": "execute_result",
     "data": {
      "text/plain": [
       "['simplewiki-20201001-pages-articles-multistream.xml.bz2']"
      ]
     },
     "metadata": {},
     "execution_count": 5
    }
   ],
   "source": [
    "files_to_download"
   ]
  },
  {
   "cell_type": "code",
   "execution_count": 6,
   "metadata": {},
   "outputs": [],
   "source": [
    "from keras.utils import get_file\n",
    "from os import path\n",
    "import subprocess\n",
    "\n",
    "# Directory where keras download the files\n",
    "dataset_dir = os.path.join(os.getcwd(), \"datasets\")\n",
    "\n",
    "data_paths = []\n",
    "file_info = []\n",
    "\n",
    "for file in files_to_download:\n",
    "    path = os.path.join(dataset_dir, file)\n",
    "\n",
    "    if not os.path.exists(path):\n",
    "        print(f\"Downloading {file} ...\")\n",
    "        data_paths.append(\n",
    "            get_file(fname=file, origin=dump_url + file, cache_subdir=dataset_dir)\n",
    "        )\n",
    "        # Find the file size in MB\n",
    "        file_size = os.stat(path).st_size / 1e6\n",
    "        print(file_size)\n",
    "\n",
    "        file_info.append((file, file_size))\n",
    "\n",
    "    else:\n",
    "        # If file exists, put in the list still, for later processing\n",
    "        data_paths.append(path)\n",
    "        file_size = os.stat(path).st_size / 1e6\n",
    "        file_info.append((file.split(\"-\")[-1], file_size))"
   ]
  },
  {
   "source": [
    "### Parsing the file\n",
    "- First, we will unzip the file using `bz2`\n",
    "- Then, we will parse the data using `xml`"
   ],
   "cell_type": "markdown",
   "metadata": {}
  },
  {
   "cell_type": "code",
   "execution_count": 7,
   "metadata": {},
   "outputs": [
    {
     "output_type": "execute_result",
     "data": {
      "text/plain": [
       "[b'<mediawiki xmlns=\"http://www.mediawiki.org/xml/export-0.10/\" xmlns:xsi=\"http://www.w3.org/2001/XMLSchema-instance\" xsi:schemaLocation=\"http://www.mediawiki.org/xml/export-0.10/ http://www.mediawiki.org/xml/export-0.10.xsd\" version=\"0.10\" xml:lang=\"en\">\\n',\n",
       " b'  <siteinfo>\\n',\n",
       " b'    <sitename>Wikipedia</sitename>\\n',\n",
       " b'    <dbname>simplewiki</dbname>\\n',\n",
       " b'    <base>https://simple.wikipedia.org/wiki/Main_Page</base>\\n',\n",
       " b'    <generator>MediaWiki 1.36.0-wmf.10</generator>\\n',\n",
       " b'    <case>first-letter</case>\\n',\n",
       " b'    <namespaces>\\n',\n",
       " b'      <namespace key=\"-2\" case=\"first-letter\">Media</namespace>\\n',\n",
       " b'      <namespace key=\"-1\" case=\"first-letter\">Special</namespace>\\n',\n",
       " b'      <namespace key=\"0\" case=\"first-letter\" />\\n',\n",
       " b'      <namespace key=\"1\" case=\"first-letter\">Talk</namespace>\\n',\n",
       " b'      <namespace key=\"2\" case=\"first-letter\">User</namespace>\\n',\n",
       " b'      <namespace key=\"3\" case=\"first-letter\">User talk</namespace>\\n',\n",
       " b'      <namespace key=\"4\" case=\"first-letter\">Wikipedia</namespace>\\n',\n",
       " b'      <namespace key=\"5\" case=\"first-letter\">Wikipedia talk</namespace>\\n',\n",
       " b'      <namespace key=\"6\" case=\"first-letter\">File</namespace>\\n',\n",
       " b'      <namespace key=\"7\" case=\"first-letter\">File talk</namespace>\\n',\n",
       " b'      <namespace key=\"8\" case=\"first-letter\">MediaWiki</namespace>\\n',\n",
       " b'      <namespace key=\"9\" case=\"first-letter\">MediaWiki talk</namespace>\\n',\n",
       " b'      <namespace key=\"10\" case=\"first-letter\">Template</namespace>\\n',\n",
       " b'      <namespace key=\"11\" case=\"first-letter\">Template talk</namespace>\\n',\n",
       " b'      <namespace key=\"12\" case=\"first-letter\">Help</namespace>\\n',\n",
       " b'      <namespace key=\"13\" case=\"first-letter\">Help talk</namespace>\\n',\n",
       " b'      <namespace key=\"14\" case=\"first-letter\">Category</namespace>\\n',\n",
       " b'      <namespace key=\"15\" case=\"first-letter\">Category talk</namespace>\\n',\n",
       " b'      <namespace key=\"828\" case=\"first-letter\">Module</namespace>\\n',\n",
       " b'      <namespace key=\"829\" case=\"first-letter\">Module talk</namespace>\\n',\n",
       " b'      <namespace key=\"2300\" case=\"first-letter\">Gadget</namespace>\\n',\n",
       " b'      <namespace key=\"2301\" case=\"first-letter\">Gadget talk</namespace>\\n',\n",
       " b'      <namespace key=\"2302\" case=\"case-sensitive\">Gadget definition</namespace>\\n',\n",
       " b'      <namespace key=\"2303\" case=\"case-sensitive\">Gadget definition talk</namespace>\\n',\n",
       " b'    </namespaces>\\n',\n",
       " b'  </siteinfo>\\n',\n",
       " b'  <page>\\n',\n",
       " b'    <title>April</title>\\n',\n",
       " b'    <ns>0</ns>\\n',\n",
       " b'    <id>1</id>\\n',\n",
       " b'    <revision>\\n',\n",
       " b'      <id>7059798</id>\\n',\n",
       " b'      <parentid>6954953</parentid>\\n',\n",
       " b'      <timestamp>2020-08-08T08:47:37Z</timestamp>\\n',\n",
       " b'      <contributor>\\n',\n",
       " b'        <username>Minorax</username>\\n',\n",
       " b'        <id>844779</id>\\n',\n",
       " b'      </contributor>\\n',\n",
       " b'      <comment>cleanup</comment>\\n',\n",
       " b'      <model>wikitext</model>\\n',\n",
       " b'      <format>text/x-wiki</format>\\n',\n",
       " b'      <text bytes=\"21804\" xml:space=\"preserve\">{{monththisyear|4}}\\n',\n",
       " b\"'''April''' is the fourth [[month]] of the [[year]], and comes between [[March]] and [[May]]. It is one of four months to have 30 [[day]]s.\\n\",\n",
       " b'\\n',\n",
       " b'April always begins on the same day of week as [[July]], and additionally, [[January]] in leap years. April always ends on the same day of the week as [[December]].\\n',\n",
       " b'\\n',\n",
       " b\"April's [[flower]]s are the [[Sweet Pea]] and [[Asteraceae|Daisy]]. Its [[birthstone]] is the [[diamond]]. The meaning of the diamond is innocence.\\n\",\n",
       " b'\\n',\n",
       " b'== The Month ==\\n',\n",
       " b'[[File:Colorful spring garden.jpg|thumb|180px|right|[[Spring]] flowers in April in the [[Northern Hemisphere]].]]\\n',\n",
       " b'April comes between [[March]] and [[May]], making it the fourth month of the year. It also comes first in the year out of the four months that have 30 days, as [[June]], [[September]] and [[November]] are later in the year.\\n',\n",
       " b'\\n',\n",
       " b\"April begins on the same day of the week as [[July]] every year and on the same day of the week as [[January]] in [[leap year]]s. April ends on the same day of the week as [[December]] every year, as each other's last days are exactly 35 weeks (245 days) apart.\\n\",\n",
       " b'\\n',\n",
       " b'In [[common year]]s, April starts on the same day of the week as [[October]] of the previous year, and in [[leap year]]s, [[May]] of the previous year. In common years, April finishes on the same day of the week as [[July]] of the previous year, and in leap years, [[February]] and [[October]] of the previous year. In common years immediately after other common years, April starts on the same day of the week as [[January]] of the previous year, and in leap years and years immediately after that, April finishes on the same day of the week as January of the previous year.\\n',\n",
       " b'\\n',\n",
       " b'In years immediately before common years, April starts on the same day of the week as [[September]] and [[December]] of the following year, and in years immediately before leap years, [[June]] of the following year. In years immediately before common years, April finishes on the same day of the week as September of the following year, and in years immediately before leap years, [[March]] and June of the following year.\\n',\n",
       " b'\\n',\n",
       " b'April is a [[spring]] month in the [[Northern Hemisphere]] and an [[autumn|autumn/fall]] month in the [[Southern Hemisphere]]. In each [[hemisphere]], it is the [[season]]al equivalent of [[October]] in the other.\\n',\n",
       " b'\\n',\n",
       " b'It is unclear as to where April got its name. A common theory is that it comes from the [[Latin]] word &quot;aperire&quot;, meaning &quot;to open&quot;, referring to [[flower]]s opening in [[spring]]. Another theory is that the name could come from [[Aphrodite]], the Greek goddess of [[love]]. It was originally the second month in the old Roman [[Calendar]], before the start of the new year was put to [[January 1]].\\n',\n",
       " b'\\n',\n",
       " b'Quite a few festivals are held in this month. In many [[Southeast Asia]]n cultures, new year is celebrated in this month (including [[Songkran]]). In Western [[Christianity]], [[Easter]] can be celebrated on a [[Sunday]] between [[March 22]] and [[April 25]]. In [[Eastern Orthodox Church|Orthodox]] Christianity, it can fall between [[April 4]] and [[May 8]]. At the end of the month, Central and Northern [[Europe]]an [[culture]]s celebrate [[Walpurgis Night]] on [[April 30]], marking the transition from [[winter]] into [[summer]].\\n',\n",
       " b'\\n',\n",
       " b'== April in poetry ==\\n',\n",
       " b\"[[poetry|Poets]] use ''April'' to mean the end of winter. For example: ''April showers bring [[May]] flowers.''\\n\",\n",
       " b'\\n',\n",
       " b'== Events in April ==\\n',\n",
       " b'=== Fixed Events ===\\n',\n",
       " b\"[[File:Aprilsnar 2001.png|thumb|200px|right|An [[April Fools' Day]] hoax for [[April 1]] in [[Copenhagen]].]]\\n\",\n",
       " b'[[File:Songkran in Wat Kungthapao 03.jpg|thumb|180px|right|[[Songkran]] celebration in [[Thailand]] around [[April 14]].]]\\n',\n",
       " b'[[File:Earth flag PD.jpg|thumb|200px|right|Proposed [[flag]] for [[Earth Day]] on [[April 22]].]]\\n',\n",
       " b\"[[File:St George's Day 2010 - 14.jpg|thumb|200px|right|[[Saint George]]'s Day on [[April 23]] in [[London]]'s [[Trafalgar Square]].]]\\n\",\n",
       " b'[[File:Anzac1.JPG|thumb|180px|right|[[ANZAC Day]] commemoration in [[Australia]] on [[April 25]].]]\\n',\n",
       " b\"[[File:Koninginnedag2007.jpg|thumb|180px|right|Queen's Day, [[April 30]], celebration in the [[Netherlands]]. It changed to King's Day, [[April 27]], in [[2014]].]]\\n\",\n",
       " b'[[File:Valborgsbrasa-1.jpg|thumb|210px|right|[[Walpurgis Night]] bonfire on [[April 30]] in [[Sweden]].]]\\n',\n",
       " b\"* [[April 1]] - [[April Fools' Day]]\\n\",\n",
       " b'* [[April 1]] - Islamic Republic Day ([[Iran]])\\n',\n",
       " b\"* [[April 2]] - International Children's Book Day\\n\",\n",
       " b'* [[April 2]] - [[Thailand|Thai]] Heritage and [[wikt:conservation|Conservation]] Day\\n',\n",
       " b'* [[April 2]] - World [[Autism]] Awareness Day\\n',\n",
       " b'* [[April 2]] - Malvinas Day ([[Argentina]])\\n',\n",
       " b'* [[April 4]] - Independence Day ([[Senegal]])\\n',\n",
       " b'* [[April 4]] - International Day for Landmine Awareness and Assistance\\n',\n",
       " b'* [[April 4]] - Peace Day ([[Angola]])\\n',\n",
       " b'* [[April 5]] - End of [[Tax]] Year ([[United Kingdom]])\\n',\n",
       " b'* [[April 6]] - Tartan Day ([[Canada]] and [[United States]])\\n',\n",
       " b'* [[April 6]] - Chakri Day ([[Thailand]])\\n',\n",
       " b'* [[April 7]] - Day of Maternity and Beauty ([[Armenia]])\\n',\n",
       " b'* [[April 7]] - Genocide Memorial Day ([[Rwanda]])\\n',\n",
       " b'* [[April 7]] - World [[Health]] Day\\n',\n",
       " b\"* [[April 7]] - Women's Day ([[Mozambique]])\\n\",\n",
       " b\"* [[April 8]] - [[Buddha]]'s Birthday ([[Buddhism]])\\n\",\n",
       " b\"* [[April 9]] - Martyrs' Day ([[Tunisia]])\\n\"]"
      ]
     },
     "metadata": {},
     "execution_count": 7
    }
   ],
   "source": [
    "import bz2\n",
    "\n",
    "# Since there is only 1 file\n",
    "data_path = data_paths[0]\n",
    "\n",
    "lines = []\n",
    "for i, line in enumerate(bz2.BZ2File(data_path, 'r')):\n",
    "    lines.append(line)\n",
    "    if i > 100:\n",
    "        break\n",
    "\n",
    "lines"
   ]
  },
  {
   "source": [
    "Our goal is to keep the content between the tags: `<title>`, `<id>` and `<text>`\n",
    "\n",
    "With that, we are going to use `xml.sax`. This code is inspired by:\n",
    "\n",
    "https://towardsdatascience.com/wikipedia-data-science-working-with-the-worlds-largest-encyclopedia-c08efbac5f5c"
   ],
   "cell_type": "markdown",
   "metadata": {}
  },
  {
   "cell_type": "code",
   "execution_count": 42,
   "metadata": {},
   "outputs": [],
   "source": [
    "import xml.sax\n",
    "\n",
    "class WikiXmlHandler(xml.sax.handler.ContentHandler):\n",
    "    \"\"\"Content handler for Wiki XML data using SAX\"\"\"\n",
    "    def __init__(self):\n",
    "        xml.sax.handler.ContentHandler.__init__(self)\n",
    "        self._buffer = None\n",
    "        self._values = {}\n",
    "        self._current_tag = None\n",
    "        self._pages = []\n",
    "\n",
    "    def characters(self, content):\n",
    "        \"\"\"Characters between opening and closing tags\"\"\"\n",
    "        if self._current_tag:\n",
    "            self._buffer.append(content)\n",
    "\n",
    "    def startElement(self, name, attrs):\n",
    "        \"\"\"Opening tag of element\"\"\"\n",
    "        if name in ('title', 'text', 'timestamp', 'id'):\n",
    "            self._current_tag = name\n",
    "            self._buffer = []\n",
    "\n",
    "    def endElement(self, name):\n",
    "        \"\"\"Closing tag of element\"\"\"\n",
    "        if name == self._current_tag:\n",
    "            self._values[name] = ' '.join(self._buffer)\n",
    "\n",
    "        if name == 'page':\n",
    "            self._pages.append((self._values['title'],self._values['id'], self._values['text']))"
   ]
  },
  {
   "cell_type": "code",
   "execution_count": 43,
   "metadata": {},
   "outputs": [
    {
     "output_type": "execute_result",
     "data": {
      "text/plain": [
       "[]"
      ]
     },
     "metadata": {},
     "execution_count": 43
    }
   ],
   "source": [
    "# Content handler for Wiki XML\n",
    "handler = WikiXmlHandler()\n",
    "\n",
    "# Parsing object\n",
    "parser = xml.sax.make_parser()\n",
    "parser.setContentHandler(handler)\n",
    "\n",
    "handler._pages"
   ]
  },
  {
   "cell_type": "code",
   "execution_count": 44,
   "metadata": {},
   "outputs": [],
   "source": [
    "lines = []\n",
    "for i, line in enumerate(bz2.BZ2File(data_path, 'r')):\n",
    "    parser.feed(line)\n",
    "\n",
    "    if len(handler._pages) > 20:\n",
    "        break"
   ]
  },
  {
   "cell_type": "code",
   "execution_count": 45,
   "metadata": {},
   "outputs": [
    {
     "output_type": "stream",
     "name": "stdout",
     "text": [
      "Angel\n"
     ]
    }
   ],
   "source": [
    "import mwparserfromhell \n",
    "\n",
    "print(handler._pages[19][0])\n",
    "\n",
    "# Create the wiki article\n",
    "wiki = mwparserfromhell.parse(handler._pages[19][1])"
   ]
  },
  {
   "cell_type": "code",
   "execution_count": 46,
   "metadata": {},
   "outputs": [
    {
     "output_type": "stream",
     "name": "stdout",
     "text": [
      "551349\n==========\n==========\n"
     ]
    },
    {
     "output_type": "execute_result",
     "data": {
      "text/plain": [
       "[]"
      ]
     },
     "metadata": {},
     "execution_count": 46
    }
   ],
   "source": [
    "print(wiki[:1000])\n",
    "print('='*10)\n",
    "wiki.filter_wikilinks()\n",
    "print('='*10)\n",
    "wiki.filter_external_links()"
   ]
  },
  {
   "source": [
    "As we can see, the `wiki` object created my `mwparserfromhell` comes pretty handy with a lot of built-in function.\n",
    "\n",
    "We can now easily extract information about page."
   ],
   "cell_type": "markdown",
   "metadata": {}
  },
  {
   "cell_type": "code",
   "execution_count": 51,
   "metadata": {
    "tags": []
   },
   "outputs": [
    {
     "output_type": "stream",
     "name": "stdout",
     "text": [
      "Page title:  April\nPage id:  844779\nPage content preview:  {{monththisyear|4}} \n '''April''' is the fourth [[month]] of the [[year]], and comes between [[March]] and [[May]]. It is one of four months to have 3\n"
     ]
    }
   ],
   "source": [
    "print(\"Page title: \", handler._pages[0][0])\n",
    "print(\"Page id: \", handler._pages[0][1])\n",
    "print(\"Page content preview: \", handler._pages[0][2][:150])"
   ]
  },
  {
   "source": [
    "This information later can be ingested into our MySQL database. However, it isn't the current requirement of the assignment.\n",
    "\n",
    "We have, though, explored the available dataset of the Simple Wiki dumps."
   ],
   "cell_type": "markdown",
   "metadata": {}
  }
 ]
}